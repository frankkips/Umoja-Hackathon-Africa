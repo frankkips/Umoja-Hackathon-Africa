{
  "nbformat": 4,
  "nbformat_minor": 0,
  "metadata": {
    "colab": {
      "provenance": []
    },
    "kernelspec": {
      "name": "python3",
      "display_name": "Python 3"
    },
    "language_info": {
      "name": "python"
    }
  },
  "cells": [
    {
      "cell_type": "markdown",
      "source": [
        "<h2><center> Welcome to the UmojaHack Africa 2023 Cryptojacking Detection Challenge Starter Notebook</h2></center>\n",
        "<figure>\n",
        "<center><img src =\"https://drive.google.com/uc?export=view&id=1afxycLZz1AovI0MjqEIiXyziEVWnUkNG\" width = \"750\" height = '500' alt=\"Cryptojacking Detection Challenge\"/>\n",
        "\n",
        "*About the problem*\n",
        "> Cryptojacking is a cyber-attack utilizing malicious scripts similar to those from large cryptocurrency houses to illegally mine data without users being aware. These attacks are stealthy and difficult to detect or analyze, often leading to decreased computing speeds for users as well as crashes due to straining of computational resources.\n",
        "\n",
        "\n",
        "*The objective of this challenge is*:\n",
        "> classify network activity from various websites as either cryptojacking or not based on features related to both network-based and host-based data.\n",
        "\n"
      ],
      "metadata": {
        "id": "nZkVo_9OcfSI"
      }
    },
    {
      "cell_type": "markdown",
      "source": [
        "## Table of contents:\n",
        "\n",
        "1. [Importing Libraries](#Libraries)\n",
        "2. [Loading Data](#Data)\n",
        "3. [Statistical Summaries](#Statistics)\n",
        "4. [Missing Values and Duplicates](#Missing)\n",
        "5. [Target Distribution](#Engineering)\n",
        "6. [Modelling](#Modelling)"
      ],
      "metadata": {
        "id": "GlmJg6TQ0Thd"
      }
    },
    {
      "cell_type": "markdown",
      "source": [
        "<a name=\"Libraries\"></a>\n",
        "## 1. Importing Libraries\n"
      ],
      "metadata": {
        "id": "I8Kdz7a25j4P"
      }
    },
    {
      "cell_type": "code",
      "source": [
        "SEED = 1221\n",
        "# Import libraries\n",
        "import pandas as pd\n",
        "import numpy as np\n",
        "import lightgbm as lgb\n",
        "import seaborn as sns\n",
        "import matplotlib.pyplot as plt\n",
        "from sklearn.metrics import mean_squared_error\n",
        "from sklearn.model_selection import train_test_split\n",
        "\n",
        "\n",
        "from sklearn.metrics import classification_report\n",
        "from sklearn.linear_model import LogisticRegression\n",
        "from sklearn.ensemble import RandomForestClassifier\n",
        "\n",
        "from sklearn.preprocessing import StandardScaler"
      ],
      "metadata": {
        "id": "2ojddGi7jVnG"
      },
      "execution_count": 345,
      "outputs": []
    },
    {
      "cell_type": "markdown",
      "source": [
        "<a name=\"Data\"></a>\n",
        "## 2. Loading Data"
      ],
      "metadata": {
        "id": "ro-KRpqn5pbB"
      }
    },
    {
      "cell_type": "code",
      "execution_count": 346,
      "metadata": {
        "colab": {
          "base_uri": "https://localhost:8080/",
          "height": 305
        },
        "id": "uVVX5VLXRuKL",
        "outputId": "c231d040-9106-43c0-e608-21d89415e026"
      },
      "outputs": [
        {
          "output_type": "execute_result",
          "data": {
            "text/plain": [
              "              ID  I/O Data Operations   I/O Data Bytes  \\\n",
              "0  ID_4W8AP96UO6           114.798900      3790.450939   \n",
              "1  ID_UD3TM0ZYND            14.154240      5182.451722   \n",
              "2  ID_XAG1HC0HWM             0.044444       120.821253   \n",
              "3  ID_CEXD05IR09            31.369916    127228.251100   \n",
              "4  ID_X6E97FT8IF             5.046181      1091.620117   \n",
              "\n",
              "   Number of subprocesses  Time on processor  Disk Reading/sec  \\\n",
              "0                    28.0           0.427078          6.162365   \n",
              "1                    28.0           0.138876          5.399498   \n",
              "2                    28.0           0.000000          1.577765   \n",
              "3                    31.0           0.523750         15.981107   \n",
              "4                    25.0           0.069468          1.356022   \n",
              "\n",
              "   Disc Writing/sec  Bytes Sent/sent  Received Bytes (HTTP)  \\\n",
              "0         21.220403        58.492773              63.959387   \n",
              "1          0.000000        22.886762              29.508369   \n",
              "2          0.000000        11.733239              12.888786   \n",
              "3          5.356671       602.125436            6976.986795   \n",
              "4          0.000000        16.138887              13.271234   \n",
              "\n",
              "   Network packets sent  Network packets received  Pages Read/sec  \\\n",
              "0              0.621206                  0.521813       24.624612   \n",
              "1              0.422183                  0.444403        0.044440   \n",
              "2              0.177776                  0.155554        0.044444   \n",
              "3              3.311801                  5.756755        5.623394   \n",
              "4              0.155609                  0.133379        0.000000   \n",
              "\n",
              "   Pages Input/sec  Page Errors/sec  Confirmed byte radius  Label  \n",
              "0              0.0      1001.533430              27.190843      1  \n",
              "1              0.0      1089.121009              30.150941      0  \n",
              "2              0.0       322.464081              28.163287      0  \n",
              "3              0.0     12015.169690              34.204404      0  \n",
              "4              0.0       550.989619              31.466889      1  "
            ],
            "text/html": [
              "\n",
              "  <div id=\"df-cd7575fb-5592-481a-b801-37a565d7050b\">\n",
              "    <div class=\"colab-df-container\">\n",
              "      <div>\n",
              "<style scoped>\n",
              "    .dataframe tbody tr th:only-of-type {\n",
              "        vertical-align: middle;\n",
              "    }\n",
              "\n",
              "    .dataframe tbody tr th {\n",
              "        vertical-align: top;\n",
              "    }\n",
              "\n",
              "    .dataframe thead th {\n",
              "        text-align: right;\n",
              "    }\n",
              "</style>\n",
              "<table border=\"1\" class=\"dataframe\">\n",
              "  <thead>\n",
              "    <tr style=\"text-align: right;\">\n",
              "      <th></th>\n",
              "      <th>ID</th>\n",
              "      <th>I/O Data Operations</th>\n",
              "      <th>I/O Data Bytes</th>\n",
              "      <th>Number of subprocesses</th>\n",
              "      <th>Time on processor</th>\n",
              "      <th>Disk Reading/sec</th>\n",
              "      <th>Disc Writing/sec</th>\n",
              "      <th>Bytes Sent/sent</th>\n",
              "      <th>Received Bytes (HTTP)</th>\n",
              "      <th>Network packets sent</th>\n",
              "      <th>Network packets received</th>\n",
              "      <th>Pages Read/sec</th>\n",
              "      <th>Pages Input/sec</th>\n",
              "      <th>Page Errors/sec</th>\n",
              "      <th>Confirmed byte radius</th>\n",
              "      <th>Label</th>\n",
              "    </tr>\n",
              "  </thead>\n",
              "  <tbody>\n",
              "    <tr>\n",
              "      <th>0</th>\n",
              "      <td>ID_4W8AP96UO6</td>\n",
              "      <td>114.798900</td>\n",
              "      <td>3790.450939</td>\n",
              "      <td>28.0</td>\n",
              "      <td>0.427078</td>\n",
              "      <td>6.162365</td>\n",
              "      <td>21.220403</td>\n",
              "      <td>58.492773</td>\n",
              "      <td>63.959387</td>\n",
              "      <td>0.621206</td>\n",
              "      <td>0.521813</td>\n",
              "      <td>24.624612</td>\n",
              "      <td>0.0</td>\n",
              "      <td>1001.533430</td>\n",
              "      <td>27.190843</td>\n",
              "      <td>1</td>\n",
              "    </tr>\n",
              "    <tr>\n",
              "      <th>1</th>\n",
              "      <td>ID_UD3TM0ZYND</td>\n",
              "      <td>14.154240</td>\n",
              "      <td>5182.451722</td>\n",
              "      <td>28.0</td>\n",
              "      <td>0.138876</td>\n",
              "      <td>5.399498</td>\n",
              "      <td>0.000000</td>\n",
              "      <td>22.886762</td>\n",
              "      <td>29.508369</td>\n",
              "      <td>0.422183</td>\n",
              "      <td>0.444403</td>\n",
              "      <td>0.044440</td>\n",
              "      <td>0.0</td>\n",
              "      <td>1089.121009</td>\n",
              "      <td>30.150941</td>\n",
              "      <td>0</td>\n",
              "    </tr>\n",
              "    <tr>\n",
              "      <th>2</th>\n",
              "      <td>ID_XAG1HC0HWM</td>\n",
              "      <td>0.044444</td>\n",
              "      <td>120.821253</td>\n",
              "      <td>28.0</td>\n",
              "      <td>0.000000</td>\n",
              "      <td>1.577765</td>\n",
              "      <td>0.000000</td>\n",
              "      <td>11.733239</td>\n",
              "      <td>12.888786</td>\n",
              "      <td>0.177776</td>\n",
              "      <td>0.155554</td>\n",
              "      <td>0.044444</td>\n",
              "      <td>0.0</td>\n",
              "      <td>322.464081</td>\n",
              "      <td>28.163287</td>\n",
              "      <td>0</td>\n",
              "    </tr>\n",
              "    <tr>\n",
              "      <th>3</th>\n",
              "      <td>ID_CEXD05IR09</td>\n",
              "      <td>31.369916</td>\n",
              "      <td>127228.251100</td>\n",
              "      <td>31.0</td>\n",
              "      <td>0.523750</td>\n",
              "      <td>15.981107</td>\n",
              "      <td>5.356671</td>\n",
              "      <td>602.125436</td>\n",
              "      <td>6976.986795</td>\n",
              "      <td>3.311801</td>\n",
              "      <td>5.756755</td>\n",
              "      <td>5.623394</td>\n",
              "      <td>0.0</td>\n",
              "      <td>12015.169690</td>\n",
              "      <td>34.204404</td>\n",
              "      <td>0</td>\n",
              "    </tr>\n",
              "    <tr>\n",
              "      <th>4</th>\n",
              "      <td>ID_X6E97FT8IF</td>\n",
              "      <td>5.046181</td>\n",
              "      <td>1091.620117</td>\n",
              "      <td>25.0</td>\n",
              "      <td>0.069468</td>\n",
              "      <td>1.356022</td>\n",
              "      <td>0.000000</td>\n",
              "      <td>16.138887</td>\n",
              "      <td>13.271234</td>\n",
              "      <td>0.155609</td>\n",
              "      <td>0.133379</td>\n",
              "      <td>0.000000</td>\n",
              "      <td>0.0</td>\n",
              "      <td>550.989619</td>\n",
              "      <td>31.466889</td>\n",
              "      <td>1</td>\n",
              "    </tr>\n",
              "  </tbody>\n",
              "</table>\n",
              "</div>\n",
              "      <button class=\"colab-df-convert\" onclick=\"convertToInteractive('df-cd7575fb-5592-481a-b801-37a565d7050b')\"\n",
              "              title=\"Convert this dataframe to an interactive table.\"\n",
              "              style=\"display:none;\">\n",
              "        \n",
              "  <svg xmlns=\"http://www.w3.org/2000/svg\" height=\"24px\"viewBox=\"0 0 24 24\"\n",
              "       width=\"24px\">\n",
              "    <path d=\"M0 0h24v24H0V0z\" fill=\"none\"/>\n",
              "    <path d=\"M18.56 5.44l.94 2.06.94-2.06 2.06-.94-2.06-.94-.94-2.06-.94 2.06-2.06.94zm-11 1L8.5 8.5l.94-2.06 2.06-.94-2.06-.94L8.5 2.5l-.94 2.06-2.06.94zm10 10l.94 2.06.94-2.06 2.06-.94-2.06-.94-.94-2.06-.94 2.06-2.06.94z\"/><path d=\"M17.41 7.96l-1.37-1.37c-.4-.4-.92-.59-1.43-.59-.52 0-1.04.2-1.43.59L10.3 9.45l-7.72 7.72c-.78.78-.78 2.05 0 2.83L4 21.41c.39.39.9.59 1.41.59.51 0 1.02-.2 1.41-.59l7.78-7.78 2.81-2.81c.8-.78.8-2.07 0-2.86zM5.41 20L4 18.59l7.72-7.72 1.47 1.35L5.41 20z\"/>\n",
              "  </svg>\n",
              "      </button>\n",
              "      \n",
              "  <style>\n",
              "    .colab-df-container {\n",
              "      display:flex;\n",
              "      flex-wrap:wrap;\n",
              "      gap: 12px;\n",
              "    }\n",
              "\n",
              "    .colab-df-convert {\n",
              "      background-color: #E8F0FE;\n",
              "      border: none;\n",
              "      border-radius: 50%;\n",
              "      cursor: pointer;\n",
              "      display: none;\n",
              "      fill: #1967D2;\n",
              "      height: 32px;\n",
              "      padding: 0 0 0 0;\n",
              "      width: 32px;\n",
              "    }\n",
              "\n",
              "    .colab-df-convert:hover {\n",
              "      background-color: #E2EBFA;\n",
              "      box-shadow: 0px 1px 2px rgba(60, 64, 67, 0.3), 0px 1px 3px 1px rgba(60, 64, 67, 0.15);\n",
              "      fill: #174EA6;\n",
              "    }\n",
              "\n",
              "    [theme=dark] .colab-df-convert {\n",
              "      background-color: #3B4455;\n",
              "      fill: #D2E3FC;\n",
              "    }\n",
              "\n",
              "    [theme=dark] .colab-df-convert:hover {\n",
              "      background-color: #434B5C;\n",
              "      box-shadow: 0px 1px 3px 1px rgba(0, 0, 0, 0.15);\n",
              "      filter: drop-shadow(0px 1px 2px rgba(0, 0, 0, 0.3));\n",
              "      fill: #FFFFFF;\n",
              "    }\n",
              "  </style>\n",
              "\n",
              "      <script>\n",
              "        const buttonEl =\n",
              "          document.querySelector('#df-cd7575fb-5592-481a-b801-37a565d7050b button.colab-df-convert');\n",
              "        buttonEl.style.display =\n",
              "          google.colab.kernel.accessAllowed ? 'block' : 'none';\n",
              "\n",
              "        async function convertToInteractive(key) {\n",
              "          const element = document.querySelector('#df-cd7575fb-5592-481a-b801-37a565d7050b');\n",
              "          const dataTable =\n",
              "            await google.colab.kernel.invokeFunction('convertToInteractive',\n",
              "                                                     [key], {});\n",
              "          if (!dataTable) return;\n",
              "\n",
              "          const docLinkHtml = 'Like what you see? Visit the ' +\n",
              "            '<a target=\"_blank\" href=https://colab.research.google.com/notebooks/data_table.ipynb>data table notebook</a>'\n",
              "            + ' to learn more about interactive tables.';\n",
              "          element.innerHTML = '';\n",
              "          dataTable['output_type'] = 'display_data';\n",
              "          await google.colab.output.renderOutput(dataTable, element);\n",
              "          const docLink = document.createElement('div');\n",
              "          docLink.innerHTML = docLinkHtml;\n",
              "          element.appendChild(docLink);\n",
              "        }\n",
              "      </script>\n",
              "    </div>\n",
              "  </div>\n",
              "  "
            ]
          },
          "metadata": {},
          "execution_count": 346
        }
      ],
      "source": [
        "# Load files\n",
        "train = pd.read_csv('/content/drive/MyDrive/CryptoJacking/Train.csv')\n",
        "test = pd.read_csv('/content/drive/MyDrive/CryptoJacking/Test.csv')\n",
        "samplesubmission = pd.read_csv('/content/drive/MyDrive/CryptoJacking/SampleSubmission.csv')\n",
        "\n",
        "# Preview train dataset\n",
        "train.head()"
      ]
    },
    {
      "cell_type": "code",
      "source": [
        "test.columns"
      ],
      "metadata": {
        "colab": {
          "base_uri": "https://localhost:8080/"
        },
        "id": "ZmMFAUHCBzqI",
        "outputId": "65a17a9e-0d8c-4ac4-e70d-04efdafa378a"
      },
      "execution_count": 347,
      "outputs": [
        {
          "output_type": "execute_result",
          "data": {
            "text/plain": [
              "Index(['ID', 'I/O Data Operations', ' I/O Data Bytes',\n",
              "       'Number of subprocesses', 'Time on processor', 'Disk Reading/sec',\n",
              "       'Disc Writing/sec', 'Bytes Sent/sent', 'Received Bytes (HTTP)',\n",
              "       'Network packets sent', 'Network packets received', 'Pages Read/sec',\n",
              "       'Pages Input/sec', 'Page Errors/sec', 'Confirmed byte radius'],\n",
              "      dtype='object')"
            ]
          },
          "metadata": {},
          "execution_count": 347
        }
      ]
    },
    {
      "cell_type": "code",
      "source": [
        "train['Pages Input/sec'].value_counts()"
      ],
      "metadata": {
        "colab": {
          "base_uri": "https://localhost:8080/"
        },
        "id": "bypA1xZCzhrf",
        "outputId": "0f7dd070-4cfc-455d-ed46-6565a826ff93"
      },
      "execution_count": 348,
      "outputs": [
        {
          "output_type": "execute_result",
          "data": {
            "text/plain": [
              "0.000000    8861\n",
              "0.000630       6\n",
              "0.005302       5\n",
              "0.006446       4\n",
              "2.955622       2\n",
              "0.622123       2\n",
              "0.555586       2\n",
              "1.044410       2\n",
              "1.577969       2\n",
              "0.844335       2\n",
              "0.622157       2\n",
              "1.666501       2\n",
              "0.466796       2\n",
              "0.911329       2\n",
              "1.422239       1\n",
              "1.667658       1\n",
              "0.933335       1\n",
              "0.599948       1\n",
              "2.200027       1\n",
              "0.244378       1\n",
              "1.999323       1\n",
              "0.244374       1\n",
              "0.488981       1\n",
              "1.733327       1\n",
              "0.422336       1\n",
              "2.667046       1\n",
              "Name: Pages Input/sec, dtype: int64"
            ]
          },
          "metadata": {},
          "execution_count": 348
        }
      ]
    },
    {
      "cell_type": "code",
      "source": [
        "# train = train.drop('Pages Input/sec', axis = 1)"
      ],
      "metadata": {
        "id": "NJw5qNoj1RBt"
      },
      "execution_count": 349,
      "outputs": []
    },
    {
      "cell_type": "code",
      "source": [
        "# Calcultating mean\n",
        "mean_value = train['Pages Input/sec'].mean()\n",
        "#Filling missing values with mean\n",
        "train['Pages Input/sec'].replace(0.000000,mean_value,inplace=True)\n",
        "# train['Pages Input/sec'].fillna(mean_value,inplace = True)"
      ],
      "metadata": {
        "id": "6rybv4aG5gy5"
      },
      "execution_count": 350,
      "outputs": []
    },
    {
      "cell_type": "code",
      "source": [
        "# Calcultating mean\n",
        "mean_value = test['Pages Input/sec'].mean()\n",
        "#Filling missing values with mean\n",
        "test['Pages Input/sec'].replace(0.000000,mean_value,inplace=True)\n",
        "# test['Pages Input/sec'].fillna(mean_value,inplace = True)"
      ],
      "metadata": {
        "id": "iSRL0tdk6VyD"
      },
      "execution_count": 351,
      "outputs": []
    },
    {
      "cell_type": "code",
      "source": [
        "train['Pages Input/sec'].value_counts()"
      ],
      "metadata": {
        "colab": {
          "base_uri": "https://localhost:8080/"
        },
        "id": "ySeDoYkc6ksy",
        "outputId": "afe26194-d53c-4426-c1d2-803529789eaf"
      },
      "execution_count": 352,
      "outputs": [
        {
          "output_type": "execute_result",
          "data": {
            "text/plain": [
              "0.004177    8861\n",
              "0.000630       6\n",
              "0.005302       5\n",
              "0.006446       4\n",
              "2.955622       2\n",
              "0.622123       2\n",
              "0.555586       2\n",
              "1.044410       2\n",
              "1.577969       2\n",
              "0.844335       2\n",
              "0.622157       2\n",
              "1.666501       2\n",
              "0.466796       2\n",
              "0.911329       2\n",
              "1.422239       1\n",
              "1.667658       1\n",
              "0.933335       1\n",
              "0.599948       1\n",
              "2.200027       1\n",
              "0.244378       1\n",
              "1.999323       1\n",
              "0.244374       1\n",
              "0.488981       1\n",
              "1.733327       1\n",
              "0.422336       1\n",
              "2.667046       1\n",
              "Name: Pages Input/sec, dtype: int64"
            ]
          },
          "metadata": {},
          "execution_count": 352
        }
      ]
    },
    {
      "cell_type": "code",
      "source": [
        "train.columns"
      ],
      "metadata": {
        "colab": {
          "base_uri": "https://localhost:8080/"
        },
        "id": "ezOv78v_2cMI",
        "outputId": "9a97758e-0363-4beb-a265-455a433a0f69"
      },
      "execution_count": 353,
      "outputs": [
        {
          "output_type": "execute_result",
          "data": {
            "text/plain": [
              "Index(['ID', 'I/O Data Operations', ' I/O Data Bytes',\n",
              "       'Number of subprocesses', 'Time on processor', 'Disk Reading/sec',\n",
              "       'Disc Writing/sec', 'Bytes Sent/sent', 'Received Bytes (HTTP)',\n",
              "       'Network packets sent', 'Network packets received', 'Pages Read/sec',\n",
              "       'Pages Input/sec', 'Page Errors/sec', 'Confirmed byte radius', 'Label'],\n",
              "      dtype='object')"
            ]
          },
          "metadata": {},
          "execution_count": 353
        }
      ]
    },
    {
      "cell_type": "code",
      "source": [
        "# test = test.drop('Pages Input/sec', axis = 1)"
      ],
      "metadata": {
        "id": "ivoQTcAf2LdG"
      },
      "execution_count": 354,
      "outputs": []
    },
    {
      "cell_type": "code",
      "source": [
        "test.columns"
      ],
      "metadata": {
        "colab": {
          "base_uri": "https://localhost:8080/"
        },
        "id": "3AkSrEsq2R_9",
        "outputId": "40c74921-6c77-4a34-a776-43d04be55970"
      },
      "execution_count": 355,
      "outputs": [
        {
          "output_type": "execute_result",
          "data": {
            "text/plain": [
              "Index(['ID', 'I/O Data Operations', ' I/O Data Bytes',\n",
              "       'Number of subprocesses', 'Time on processor', 'Disk Reading/sec',\n",
              "       'Disc Writing/sec', 'Bytes Sent/sent', 'Received Bytes (HTTP)',\n",
              "       'Network packets sent', 'Network packets received', 'Pages Read/sec',\n",
              "       'Pages Input/sec', 'Page Errors/sec', 'Confirmed byte radius'],\n",
              "      dtype='object')"
            ]
          },
          "metadata": {},
          "execution_count": 355
        }
      ]
    },
    {
      "cell_type": "code",
      "source": [
        "from google.colab import drive\n",
        "drive.mount('/content/drive')"
      ],
      "metadata": {
        "colab": {
          "base_uri": "https://localhost:8080/"
        },
        "id": "7Wttj-_yOGf6",
        "outputId": "f8a9afb9-b7ff-4ec5-e8b5-cd206984f683"
      },
      "execution_count": 356,
      "outputs": [
        {
          "output_type": "stream",
          "name": "stdout",
          "text": [
            "Drive already mounted at /content/drive; to attempt to forcibly remount, call drive.mount(\"/content/drive\", force_remount=True).\n"
          ]
        }
      ]
    },
    {
      "cell_type": "code",
      "source": [
        "# Preview test dataset\n",
        "test.head()"
      ],
      "metadata": {
        "colab": {
          "base_uri": "https://localhost:8080/",
          "height": 285
        },
        "id": "J3Nzm28bh-rR",
        "outputId": "f449c546-4edf-40aa-ba97-419c0e2a5972"
      },
      "execution_count": 357,
      "outputs": [
        {
          "output_type": "execute_result",
          "data": {
            "text/plain": [
              "              ID  I/O Data Operations   I/O Data Bytes  \\\n",
              "0  ID_L7RNFK5JC9            32.709430    121124.141400   \n",
              "1  ID_KUTY5K1G5F             2.065990      2029.713475   \n",
              "2  ID_H6PJWKU831           114.524684      3888.550764   \n",
              "3  ID_DNQXNVTXHE            27.036810      5581.324782   \n",
              "4  ID_8CRTF1BJOD             1.177267       176.634467   \n",
              "\n",
              "   Number of subprocesses  Time on processor  Disk Reading/sec  \\\n",
              "0               30.407359           0.496719          3.999064   \n",
              "1               29.000000           0.000000          3.665467   \n",
              "2               28.000000           0.486075          0.777719   \n",
              "3               25.000000           0.314968          1.789015   \n",
              "4               28.000000           0.000000          1.710369   \n",
              "\n",
              "   Disc Writing/sec  Bytes Sent/sent  Received Bytes (HTTP)  \\\n",
              "0          0.000000       335.565884             737.338490   \n",
              "1          0.000000        63.845771              41.119875   \n",
              "2          0.199985        11.354698              11.332477   \n",
              "3          0.000000        44.297028              13.430214   \n",
              "4          0.000000        88.161746              57.508380   \n",
              "\n",
              "   Network packets sent  Network packets received  Pages Read/sec  \\\n",
              "0              1.844013                  1.910664        0.311038   \n",
              "1              0.733093                  0.577589        0.044430   \n",
              "2              0.177764                  0.133323        0.000000   \n",
              "3              0.302369                  0.125987        0.000000   \n",
              "4              0.888503                  0.777440        0.000000   \n",
              "\n",
              "   Pages Input/sec  Page Errors/sec  Confirmed byte radius  \n",
              "0         0.004651       726.318848              20.008686  \n",
              "1         0.004651       385.473839              33.015399  \n",
              "2         0.004651       504.828540              30.091141  \n",
              "3         0.004651       465.950312              22.211252  \n",
              "4         0.004651       771.665166              31.032570  "
            ],
            "text/html": [
              "\n",
              "  <div id=\"df-9bdef784-5de3-493f-8ae9-269a15cdcf2c\">\n",
              "    <div class=\"colab-df-container\">\n",
              "      <div>\n",
              "<style scoped>\n",
              "    .dataframe tbody tr th:only-of-type {\n",
              "        vertical-align: middle;\n",
              "    }\n",
              "\n",
              "    .dataframe tbody tr th {\n",
              "        vertical-align: top;\n",
              "    }\n",
              "\n",
              "    .dataframe thead th {\n",
              "        text-align: right;\n",
              "    }\n",
              "</style>\n",
              "<table border=\"1\" class=\"dataframe\">\n",
              "  <thead>\n",
              "    <tr style=\"text-align: right;\">\n",
              "      <th></th>\n",
              "      <th>ID</th>\n",
              "      <th>I/O Data Operations</th>\n",
              "      <th>I/O Data Bytes</th>\n",
              "      <th>Number of subprocesses</th>\n",
              "      <th>Time on processor</th>\n",
              "      <th>Disk Reading/sec</th>\n",
              "      <th>Disc Writing/sec</th>\n",
              "      <th>Bytes Sent/sent</th>\n",
              "      <th>Received Bytes (HTTP)</th>\n",
              "      <th>Network packets sent</th>\n",
              "      <th>Network packets received</th>\n",
              "      <th>Pages Read/sec</th>\n",
              "      <th>Pages Input/sec</th>\n",
              "      <th>Page Errors/sec</th>\n",
              "      <th>Confirmed byte radius</th>\n",
              "    </tr>\n",
              "  </thead>\n",
              "  <tbody>\n",
              "    <tr>\n",
              "      <th>0</th>\n",
              "      <td>ID_L7RNFK5JC9</td>\n",
              "      <td>32.709430</td>\n",
              "      <td>121124.141400</td>\n",
              "      <td>30.407359</td>\n",
              "      <td>0.496719</td>\n",
              "      <td>3.999064</td>\n",
              "      <td>0.000000</td>\n",
              "      <td>335.565884</td>\n",
              "      <td>737.338490</td>\n",
              "      <td>1.844013</td>\n",
              "      <td>1.910664</td>\n",
              "      <td>0.311038</td>\n",
              "      <td>0.004651</td>\n",
              "      <td>726.318848</td>\n",
              "      <td>20.008686</td>\n",
              "    </tr>\n",
              "    <tr>\n",
              "      <th>1</th>\n",
              "      <td>ID_KUTY5K1G5F</td>\n",
              "      <td>2.065990</td>\n",
              "      <td>2029.713475</td>\n",
              "      <td>29.000000</td>\n",
              "      <td>0.000000</td>\n",
              "      <td>3.665467</td>\n",
              "      <td>0.000000</td>\n",
              "      <td>63.845771</td>\n",
              "      <td>41.119875</td>\n",
              "      <td>0.733093</td>\n",
              "      <td>0.577589</td>\n",
              "      <td>0.044430</td>\n",
              "      <td>0.004651</td>\n",
              "      <td>385.473839</td>\n",
              "      <td>33.015399</td>\n",
              "    </tr>\n",
              "    <tr>\n",
              "      <th>2</th>\n",
              "      <td>ID_H6PJWKU831</td>\n",
              "      <td>114.524684</td>\n",
              "      <td>3888.550764</td>\n",
              "      <td>28.000000</td>\n",
              "      <td>0.486075</td>\n",
              "      <td>0.777719</td>\n",
              "      <td>0.199985</td>\n",
              "      <td>11.354698</td>\n",
              "      <td>11.332477</td>\n",
              "      <td>0.177764</td>\n",
              "      <td>0.133323</td>\n",
              "      <td>0.000000</td>\n",
              "      <td>0.004651</td>\n",
              "      <td>504.828540</td>\n",
              "      <td>30.091141</td>\n",
              "    </tr>\n",
              "    <tr>\n",
              "      <th>3</th>\n",
              "      <td>ID_DNQXNVTXHE</td>\n",
              "      <td>27.036810</td>\n",
              "      <td>5581.324782</td>\n",
              "      <td>25.000000</td>\n",
              "      <td>0.314968</td>\n",
              "      <td>1.789015</td>\n",
              "      <td>0.000000</td>\n",
              "      <td>44.297028</td>\n",
              "      <td>13.430214</td>\n",
              "      <td>0.302369</td>\n",
              "      <td>0.125987</td>\n",
              "      <td>0.000000</td>\n",
              "      <td>0.004651</td>\n",
              "      <td>465.950312</td>\n",
              "      <td>22.211252</td>\n",
              "    </tr>\n",
              "    <tr>\n",
              "      <th>4</th>\n",
              "      <td>ID_8CRTF1BJOD</td>\n",
              "      <td>1.177267</td>\n",
              "      <td>176.634467</td>\n",
              "      <td>28.000000</td>\n",
              "      <td>0.000000</td>\n",
              "      <td>1.710369</td>\n",
              "      <td>0.000000</td>\n",
              "      <td>88.161746</td>\n",
              "      <td>57.508380</td>\n",
              "      <td>0.888503</td>\n",
              "      <td>0.777440</td>\n",
              "      <td>0.000000</td>\n",
              "      <td>0.004651</td>\n",
              "      <td>771.665166</td>\n",
              "      <td>31.032570</td>\n",
              "    </tr>\n",
              "  </tbody>\n",
              "</table>\n",
              "</div>\n",
              "      <button class=\"colab-df-convert\" onclick=\"convertToInteractive('df-9bdef784-5de3-493f-8ae9-269a15cdcf2c')\"\n",
              "              title=\"Convert this dataframe to an interactive table.\"\n",
              "              style=\"display:none;\">\n",
              "        \n",
              "  <svg xmlns=\"http://www.w3.org/2000/svg\" height=\"24px\"viewBox=\"0 0 24 24\"\n",
              "       width=\"24px\">\n",
              "    <path d=\"M0 0h24v24H0V0z\" fill=\"none\"/>\n",
              "    <path d=\"M18.56 5.44l.94 2.06.94-2.06 2.06-.94-2.06-.94-.94-2.06-.94 2.06-2.06.94zm-11 1L8.5 8.5l.94-2.06 2.06-.94-2.06-.94L8.5 2.5l-.94 2.06-2.06.94zm10 10l.94 2.06.94-2.06 2.06-.94-2.06-.94-.94-2.06-.94 2.06-2.06.94z\"/><path d=\"M17.41 7.96l-1.37-1.37c-.4-.4-.92-.59-1.43-.59-.52 0-1.04.2-1.43.59L10.3 9.45l-7.72 7.72c-.78.78-.78 2.05 0 2.83L4 21.41c.39.39.9.59 1.41.59.51 0 1.02-.2 1.41-.59l7.78-7.78 2.81-2.81c.8-.78.8-2.07 0-2.86zM5.41 20L4 18.59l7.72-7.72 1.47 1.35L5.41 20z\"/>\n",
              "  </svg>\n",
              "      </button>\n",
              "      \n",
              "  <style>\n",
              "    .colab-df-container {\n",
              "      display:flex;\n",
              "      flex-wrap:wrap;\n",
              "      gap: 12px;\n",
              "    }\n",
              "\n",
              "    .colab-df-convert {\n",
              "      background-color: #E8F0FE;\n",
              "      border: none;\n",
              "      border-radius: 50%;\n",
              "      cursor: pointer;\n",
              "      display: none;\n",
              "      fill: #1967D2;\n",
              "      height: 32px;\n",
              "      padding: 0 0 0 0;\n",
              "      width: 32px;\n",
              "    }\n",
              "\n",
              "    .colab-df-convert:hover {\n",
              "      background-color: #E2EBFA;\n",
              "      box-shadow: 0px 1px 2px rgba(60, 64, 67, 0.3), 0px 1px 3px 1px rgba(60, 64, 67, 0.15);\n",
              "      fill: #174EA6;\n",
              "    }\n",
              "\n",
              "    [theme=dark] .colab-df-convert {\n",
              "      background-color: #3B4455;\n",
              "      fill: #D2E3FC;\n",
              "    }\n",
              "\n",
              "    [theme=dark] .colab-df-convert:hover {\n",
              "      background-color: #434B5C;\n",
              "      box-shadow: 0px 1px 3px 1px rgba(0, 0, 0, 0.15);\n",
              "      filter: drop-shadow(0px 1px 2px rgba(0, 0, 0, 0.3));\n",
              "      fill: #FFFFFF;\n",
              "    }\n",
              "  </style>\n",
              "\n",
              "      <script>\n",
              "        const buttonEl =\n",
              "          document.querySelector('#df-9bdef784-5de3-493f-8ae9-269a15cdcf2c button.colab-df-convert');\n",
              "        buttonEl.style.display =\n",
              "          google.colab.kernel.accessAllowed ? 'block' : 'none';\n",
              "\n",
              "        async function convertToInteractive(key) {\n",
              "          const element = document.querySelector('#df-9bdef784-5de3-493f-8ae9-269a15cdcf2c');\n",
              "          const dataTable =\n",
              "            await google.colab.kernel.invokeFunction('convertToInteractive',\n",
              "                                                     [key], {});\n",
              "          if (!dataTable) return;\n",
              "\n",
              "          const docLinkHtml = 'Like what you see? Visit the ' +\n",
              "            '<a target=\"_blank\" href=https://colab.research.google.com/notebooks/data_table.ipynb>data table notebook</a>'\n",
              "            + ' to learn more about interactive tables.';\n",
              "          element.innerHTML = '';\n",
              "          dataTable['output_type'] = 'display_data';\n",
              "          await google.colab.output.renderOutput(dataTable, element);\n",
              "          const docLink = document.createElement('div');\n",
              "          docLink.innerHTML = docLinkHtml;\n",
              "          element.appendChild(docLink);\n",
              "        }\n",
              "      </script>\n",
              "    </div>\n",
              "  </div>\n",
              "  "
            ]
          },
          "metadata": {},
          "execution_count": 357
        }
      ]
    },
    {
      "cell_type": "code",
      "source": [
        "train.info()"
      ],
      "metadata": {
        "colab": {
          "base_uri": "https://localhost:8080/"
        },
        "id": "j0N6TyJGv3uA",
        "outputId": "9f6affc3-525c-4e2c-df41-b370e011adb0"
      },
      "execution_count": 358,
      "outputs": [
        {
          "output_type": "stream",
          "name": "stdout",
          "text": [
            "<class 'pandas.core.frame.DataFrame'>\n",
            "RangeIndex: 8908 entries, 0 to 8907\n",
            "Data columns (total 16 columns):\n",
            " #   Column                    Non-Null Count  Dtype  \n",
            "---  ------                    --------------  -----  \n",
            " 0   ID                        8908 non-null   object \n",
            " 1   I/O Data Operations       8908 non-null   float64\n",
            " 2    I/O Data Bytes           8908 non-null   float64\n",
            " 3   Number of subprocesses    8908 non-null   float64\n",
            " 4   Time on processor         8908 non-null   float64\n",
            " 5   Disk Reading/sec          8908 non-null   float64\n",
            " 6   Disc Writing/sec          8908 non-null   float64\n",
            " 7   Bytes Sent/sent           8908 non-null   float64\n",
            " 8   Received Bytes (HTTP)     8908 non-null   float64\n",
            " 9   Network packets sent      8908 non-null   float64\n",
            " 10  Network packets received  8908 non-null   float64\n",
            " 11  Pages Read/sec            8908 non-null   float64\n",
            " 12  Pages Input/sec           8908 non-null   float64\n",
            " 13  Page Errors/sec           8908 non-null   float64\n",
            " 14  Confirmed byte radius     8908 non-null   float64\n",
            " 15  Label                     8908 non-null   int64  \n",
            "dtypes: float64(14), int64(1), object(1)\n",
            "memory usage: 1.1+ MB\n"
          ]
        }
      ]
    },
    {
      "cell_type": "code",
      "source": [
        "train = train.replace(' ', np.NaN)"
      ],
      "metadata": {
        "id": "Zz692Bg4y9lF"
      },
      "execution_count": 359,
      "outputs": []
    },
    {
      "cell_type": "code",
      "source": [
        "train.isna().sum()"
      ],
      "metadata": {
        "colab": {
          "base_uri": "https://localhost:8080/"
        },
        "id": "VqfKoU1Ww9XI",
        "outputId": "9eca352a-48ff-43a2-a6c5-33d4759186f4"
      },
      "execution_count": 360,
      "outputs": [
        {
          "output_type": "execute_result",
          "data": {
            "text/plain": [
              "ID                          0\n",
              "I/O Data Operations         0\n",
              " I/O Data Bytes             0\n",
              "Number of subprocesses      0\n",
              "Time on processor           0\n",
              "Disk Reading/sec            0\n",
              "Disc Writing/sec            0\n",
              "Bytes Sent/sent             0\n",
              "Received Bytes (HTTP)       0\n",
              "Network packets sent        0\n",
              "Network packets received    0\n",
              "Pages Read/sec              0\n",
              "Pages Input/sec             0\n",
              "Page Errors/sec             0\n",
              "Confirmed byte radius       0\n",
              "Label                       0\n",
              "dtype: int64"
            ]
          },
          "metadata": {},
          "execution_count": 360
        }
      ]
    },
    {
      "cell_type": "code",
      "source": [
        "# Preview sample submission file\n",
        "samplesubmission.head()"
      ],
      "metadata": {
        "colab": {
          "base_uri": "https://localhost:8080/",
          "height": 206
        },
        "id": "aHFvG2LSipon",
        "outputId": "3f3ef9da-56df-41fd-87f4-5491188ea9b9"
      },
      "execution_count": 361,
      "outputs": [
        {
          "output_type": "execute_result",
          "data": {
            "text/plain": [
              "              ID  Target\n",
              "0  ID_VT5SH34X8O       0\n",
              "1  ID_4RQRV7XN3E       0\n",
              "2  ID_1XCH999D2E       0\n",
              "3  ID_J2ZBZIO0RW       0\n",
              "4  ID_KG3PE5VXCN       0"
            ],
            "text/html": [
              "\n",
              "  <div id=\"df-7a27a559-8ddb-4a7e-aa1c-7913832de1e2\">\n",
              "    <div class=\"colab-df-container\">\n",
              "      <div>\n",
              "<style scoped>\n",
              "    .dataframe tbody tr th:only-of-type {\n",
              "        vertical-align: middle;\n",
              "    }\n",
              "\n",
              "    .dataframe tbody tr th {\n",
              "        vertical-align: top;\n",
              "    }\n",
              "\n",
              "    .dataframe thead th {\n",
              "        text-align: right;\n",
              "    }\n",
              "</style>\n",
              "<table border=\"1\" class=\"dataframe\">\n",
              "  <thead>\n",
              "    <tr style=\"text-align: right;\">\n",
              "      <th></th>\n",
              "      <th>ID</th>\n",
              "      <th>Target</th>\n",
              "    </tr>\n",
              "  </thead>\n",
              "  <tbody>\n",
              "    <tr>\n",
              "      <th>0</th>\n",
              "      <td>ID_VT5SH34X8O</td>\n",
              "      <td>0</td>\n",
              "    </tr>\n",
              "    <tr>\n",
              "      <th>1</th>\n",
              "      <td>ID_4RQRV7XN3E</td>\n",
              "      <td>0</td>\n",
              "    </tr>\n",
              "    <tr>\n",
              "      <th>2</th>\n",
              "      <td>ID_1XCH999D2E</td>\n",
              "      <td>0</td>\n",
              "    </tr>\n",
              "    <tr>\n",
              "      <th>3</th>\n",
              "      <td>ID_J2ZBZIO0RW</td>\n",
              "      <td>0</td>\n",
              "    </tr>\n",
              "    <tr>\n",
              "      <th>4</th>\n",
              "      <td>ID_KG3PE5VXCN</td>\n",
              "      <td>0</td>\n",
              "    </tr>\n",
              "  </tbody>\n",
              "</table>\n",
              "</div>\n",
              "      <button class=\"colab-df-convert\" onclick=\"convertToInteractive('df-7a27a559-8ddb-4a7e-aa1c-7913832de1e2')\"\n",
              "              title=\"Convert this dataframe to an interactive table.\"\n",
              "              style=\"display:none;\">\n",
              "        \n",
              "  <svg xmlns=\"http://www.w3.org/2000/svg\" height=\"24px\"viewBox=\"0 0 24 24\"\n",
              "       width=\"24px\">\n",
              "    <path d=\"M0 0h24v24H0V0z\" fill=\"none\"/>\n",
              "    <path d=\"M18.56 5.44l.94 2.06.94-2.06 2.06-.94-2.06-.94-.94-2.06-.94 2.06-2.06.94zm-11 1L8.5 8.5l.94-2.06 2.06-.94-2.06-.94L8.5 2.5l-.94 2.06-2.06.94zm10 10l.94 2.06.94-2.06 2.06-.94-2.06-.94-.94-2.06-.94 2.06-2.06.94z\"/><path d=\"M17.41 7.96l-1.37-1.37c-.4-.4-.92-.59-1.43-.59-.52 0-1.04.2-1.43.59L10.3 9.45l-7.72 7.72c-.78.78-.78 2.05 0 2.83L4 21.41c.39.39.9.59 1.41.59.51 0 1.02-.2 1.41-.59l7.78-7.78 2.81-2.81c.8-.78.8-2.07 0-2.86zM5.41 20L4 18.59l7.72-7.72 1.47 1.35L5.41 20z\"/>\n",
              "  </svg>\n",
              "      </button>\n",
              "      \n",
              "  <style>\n",
              "    .colab-df-container {\n",
              "      display:flex;\n",
              "      flex-wrap:wrap;\n",
              "      gap: 12px;\n",
              "    }\n",
              "\n",
              "    .colab-df-convert {\n",
              "      background-color: #E8F0FE;\n",
              "      border: none;\n",
              "      border-radius: 50%;\n",
              "      cursor: pointer;\n",
              "      display: none;\n",
              "      fill: #1967D2;\n",
              "      height: 32px;\n",
              "      padding: 0 0 0 0;\n",
              "      width: 32px;\n",
              "    }\n",
              "\n",
              "    .colab-df-convert:hover {\n",
              "      background-color: #E2EBFA;\n",
              "      box-shadow: 0px 1px 2px rgba(60, 64, 67, 0.3), 0px 1px 3px 1px rgba(60, 64, 67, 0.15);\n",
              "      fill: #174EA6;\n",
              "    }\n",
              "\n",
              "    [theme=dark] .colab-df-convert {\n",
              "      background-color: #3B4455;\n",
              "      fill: #D2E3FC;\n",
              "    }\n",
              "\n",
              "    [theme=dark] .colab-df-convert:hover {\n",
              "      background-color: #434B5C;\n",
              "      box-shadow: 0px 1px 3px 1px rgba(0, 0, 0, 0.15);\n",
              "      filter: drop-shadow(0px 1px 2px rgba(0, 0, 0, 0.3));\n",
              "      fill: #FFFFFF;\n",
              "    }\n",
              "  </style>\n",
              "\n",
              "      <script>\n",
              "        const buttonEl =\n",
              "          document.querySelector('#df-7a27a559-8ddb-4a7e-aa1c-7913832de1e2 button.colab-df-convert');\n",
              "        buttonEl.style.display =\n",
              "          google.colab.kernel.accessAllowed ? 'block' : 'none';\n",
              "\n",
              "        async function convertToInteractive(key) {\n",
              "          const element = document.querySelector('#df-7a27a559-8ddb-4a7e-aa1c-7913832de1e2');\n",
              "          const dataTable =\n",
              "            await google.colab.kernel.invokeFunction('convertToInteractive',\n",
              "                                                     [key], {});\n",
              "          if (!dataTable) return;\n",
              "\n",
              "          const docLinkHtml = 'Like what you see? Visit the ' +\n",
              "            '<a target=\"_blank\" href=https://colab.research.google.com/notebooks/data_table.ipynb>data table notebook</a>'\n",
              "            + ' to learn more about interactive tables.';\n",
              "          element.innerHTML = '';\n",
              "          dataTable['output_type'] = 'display_data';\n",
              "          await google.colab.output.renderOutput(dataTable, element);\n",
              "          const docLink = document.createElement('div');\n",
              "          docLink.innerHTML = docLinkHtml;\n",
              "          element.appendChild(docLink);\n",
              "        }\n",
              "      </script>\n",
              "    </div>\n",
              "  </div>\n",
              "  "
            ]
          },
          "metadata": {},
          "execution_count": 361
        }
      ]
    },
    {
      "cell_type": "code",
      "source": [
        "# Check size and shape of datasets\n",
        "train.shape, test.shape, samplesubmission.shape"
      ],
      "metadata": {
        "colab": {
          "base_uri": "https://localhost:8080/"
        },
        "id": "MIYhvh4rirUn",
        "outputId": "5940852b-b42f-40e9-8c39-9025637d9f6f"
      },
      "execution_count": 362,
      "outputs": [
        {
          "output_type": "execute_result",
          "data": {
            "text/plain": [
              "((8908, 16), (3818, 15), (3818, 2))"
            ]
          },
          "metadata": {},
          "execution_count": 362
        }
      ]
    },
    {
      "cell_type": "markdown",
      "source": [
        "<a name=\"Statistics\"></a>\n",
        "## 3. Statistical Summaries"
      ],
      "metadata": {
        "id": "KNtwMcKjZk9x"
      }
    },
    {
      "cell_type": "code",
      "source": [
        "# Train statistical summary\n",
        "train.describe(include = 'all')"
      ],
      "metadata": {
        "colab": {
          "base_uri": "https://localhost:8080/",
          "height": 493
        },
        "id": "WuCX_FV3it_B",
        "outputId": "fb95551e-f8db-41db-e816-e60ec4dbe459"
      },
      "execution_count": 363,
      "outputs": [
        {
          "output_type": "execute_result",
          "data": {
            "text/plain": [
              "                   ID  I/O Data Operations   I/O Data Bytes  \\\n",
              "count            8908          8908.000000     8.908000e+03   \n",
              "unique           8908                  NaN              NaN   \n",
              "top     ID_4W8AP96UO6                  NaN              NaN   \n",
              "freq                1                  NaN              NaN   \n",
              "mean              NaN            36.429205     1.135564e+05   \n",
              "std               NaN            75.884647     4.896846e+05   \n",
              "min               NaN             0.000000     0.000000e+00   \n",
              "25%               NaN             1.394404     8.136318e+02   \n",
              "50%               NaN            11.613803     4.930482e+03   \n",
              "75%               NaN            34.494953     3.940357e+04   \n",
              "max               NaN          1795.316255     4.677280e+06   \n",
              "\n",
              "        Number of subprocesses  Time on processor  Disk Reading/sec  \\\n",
              "count              8908.000000        8908.000000       8908.000000   \n",
              "unique                     NaN                NaN               NaN   \n",
              "top                        NaN                NaN               NaN   \n",
              "freq                       NaN                NaN               NaN   \n",
              "mean                 29.811900           0.496405          5.353260   \n",
              "std                   5.691411           1.593626         19.286690   \n",
              "min                   1.000000           0.000000          0.044459   \n",
              "25%                  27.000000           0.000000          0.755629   \n",
              "50%                  28.000000           0.034734          1.711077   \n",
              "75%                  30.000000           0.451350          5.845619   \n",
              "max                  51.000000          25.246148       1064.819285   \n",
              "\n",
              "        Disc Writing/sec  Bytes Sent/sent  Received Bytes (HTTP)  \\\n",
              "count        8908.000000      8908.000000           8.908000e+03   \n",
              "unique               NaN              NaN                    NaN   \n",
              "top                  NaN              NaN                    NaN   \n",
              "freq                 NaN              NaN                    NaN   \n",
              "mean            1.046153       559.546628           1.655804e+04   \n",
              "std            15.667814      1939.745234           9.042803e+04   \n",
              "min             0.000000         1.197890           1.554938e+00   \n",
              "25%             0.000000        33.843800           2.737770e+01   \n",
              "50%             0.000000        67.366295           8.905770e+01   \n",
              "75%             0.022229       221.314810           5.613814e+02   \n",
              "max           831.503948     98097.784300           4.812144e+06   \n",
              "\n",
              "        Network packets sent  Network packets received  Pages Read/sec  \\\n",
              "count            8908.000000               8908.000000     8908.000000   \n",
              "unique                   NaN                       NaN             NaN   \n",
              "top                      NaN                       NaN             NaN   \n",
              "freq                     NaN                       NaN             NaN   \n",
              "mean                4.795485                 12.625792        0.988036   \n",
              "std                20.797585                 61.246541       12.495768   \n",
              "min                 0.022183                  0.022183        0.000000   \n",
              "25%                 0.399999                  0.333225        0.000000   \n",
              "50%                 0.710898                  0.635705        0.022222   \n",
              "75%                 1.555063                  1.711155        0.088887   \n",
              "max              1118.878021               3183.701036      475.031124   \n",
              "\n",
              "        Pages Input/sec  Page Errors/sec  Confirmed byte radius        Label  \n",
              "count       8908.000000      8908.000000            8908.000000  8908.000000  \n",
              "unique              NaN              NaN                    NaN          NaN  \n",
              "top                 NaN              NaN                    NaN          NaN  \n",
              "freq                NaN              NaN                    NaN          NaN  \n",
              "mean           0.008333      2779.178084              28.436192     0.269870  \n",
              "std            0.082714      4996.003166               3.970140     0.443917  \n",
              "min            0.000630        16.143987              18.057942     0.000000  \n",
              "25%            0.004177       351.620535              25.266134     0.000000  \n",
              "50%            0.004177       682.943866              28.543826     0.000000  \n",
              "75%            0.004177      1356.673217              30.969542     1.000000  \n",
              "max            2.955622     98031.408630              46.784800     1.000000  "
            ],
            "text/html": [
              "\n",
              "  <div id=\"df-01dce336-f33e-4102-ab44-54c6a643b433\">\n",
              "    <div class=\"colab-df-container\">\n",
              "      <div>\n",
              "<style scoped>\n",
              "    .dataframe tbody tr th:only-of-type {\n",
              "        vertical-align: middle;\n",
              "    }\n",
              "\n",
              "    .dataframe tbody tr th {\n",
              "        vertical-align: top;\n",
              "    }\n",
              "\n",
              "    .dataframe thead th {\n",
              "        text-align: right;\n",
              "    }\n",
              "</style>\n",
              "<table border=\"1\" class=\"dataframe\">\n",
              "  <thead>\n",
              "    <tr style=\"text-align: right;\">\n",
              "      <th></th>\n",
              "      <th>ID</th>\n",
              "      <th>I/O Data Operations</th>\n",
              "      <th>I/O Data Bytes</th>\n",
              "      <th>Number of subprocesses</th>\n",
              "      <th>Time on processor</th>\n",
              "      <th>Disk Reading/sec</th>\n",
              "      <th>Disc Writing/sec</th>\n",
              "      <th>Bytes Sent/sent</th>\n",
              "      <th>Received Bytes (HTTP)</th>\n",
              "      <th>Network packets sent</th>\n",
              "      <th>Network packets received</th>\n",
              "      <th>Pages Read/sec</th>\n",
              "      <th>Pages Input/sec</th>\n",
              "      <th>Page Errors/sec</th>\n",
              "      <th>Confirmed byte radius</th>\n",
              "      <th>Label</th>\n",
              "    </tr>\n",
              "  </thead>\n",
              "  <tbody>\n",
              "    <tr>\n",
              "      <th>count</th>\n",
              "      <td>8908</td>\n",
              "      <td>8908.000000</td>\n",
              "      <td>8.908000e+03</td>\n",
              "      <td>8908.000000</td>\n",
              "      <td>8908.000000</td>\n",
              "      <td>8908.000000</td>\n",
              "      <td>8908.000000</td>\n",
              "      <td>8908.000000</td>\n",
              "      <td>8.908000e+03</td>\n",
              "      <td>8908.000000</td>\n",
              "      <td>8908.000000</td>\n",
              "      <td>8908.000000</td>\n",
              "      <td>8908.000000</td>\n",
              "      <td>8908.000000</td>\n",
              "      <td>8908.000000</td>\n",
              "      <td>8908.000000</td>\n",
              "    </tr>\n",
              "    <tr>\n",
              "      <th>unique</th>\n",
              "      <td>8908</td>\n",
              "      <td>NaN</td>\n",
              "      <td>NaN</td>\n",
              "      <td>NaN</td>\n",
              "      <td>NaN</td>\n",
              "      <td>NaN</td>\n",
              "      <td>NaN</td>\n",
              "      <td>NaN</td>\n",
              "      <td>NaN</td>\n",
              "      <td>NaN</td>\n",
              "      <td>NaN</td>\n",
              "      <td>NaN</td>\n",
              "      <td>NaN</td>\n",
              "      <td>NaN</td>\n",
              "      <td>NaN</td>\n",
              "      <td>NaN</td>\n",
              "    </tr>\n",
              "    <tr>\n",
              "      <th>top</th>\n",
              "      <td>ID_4W8AP96UO6</td>\n",
              "      <td>NaN</td>\n",
              "      <td>NaN</td>\n",
              "      <td>NaN</td>\n",
              "      <td>NaN</td>\n",
              "      <td>NaN</td>\n",
              "      <td>NaN</td>\n",
              "      <td>NaN</td>\n",
              "      <td>NaN</td>\n",
              "      <td>NaN</td>\n",
              "      <td>NaN</td>\n",
              "      <td>NaN</td>\n",
              "      <td>NaN</td>\n",
              "      <td>NaN</td>\n",
              "      <td>NaN</td>\n",
              "      <td>NaN</td>\n",
              "    </tr>\n",
              "    <tr>\n",
              "      <th>freq</th>\n",
              "      <td>1</td>\n",
              "      <td>NaN</td>\n",
              "      <td>NaN</td>\n",
              "      <td>NaN</td>\n",
              "      <td>NaN</td>\n",
              "      <td>NaN</td>\n",
              "      <td>NaN</td>\n",
              "      <td>NaN</td>\n",
              "      <td>NaN</td>\n",
              "      <td>NaN</td>\n",
              "      <td>NaN</td>\n",
              "      <td>NaN</td>\n",
              "      <td>NaN</td>\n",
              "      <td>NaN</td>\n",
              "      <td>NaN</td>\n",
              "      <td>NaN</td>\n",
              "    </tr>\n",
              "    <tr>\n",
              "      <th>mean</th>\n",
              "      <td>NaN</td>\n",
              "      <td>36.429205</td>\n",
              "      <td>1.135564e+05</td>\n",
              "      <td>29.811900</td>\n",
              "      <td>0.496405</td>\n",
              "      <td>5.353260</td>\n",
              "      <td>1.046153</td>\n",
              "      <td>559.546628</td>\n",
              "      <td>1.655804e+04</td>\n",
              "      <td>4.795485</td>\n",
              "      <td>12.625792</td>\n",
              "      <td>0.988036</td>\n",
              "      <td>0.008333</td>\n",
              "      <td>2779.178084</td>\n",
              "      <td>28.436192</td>\n",
              "      <td>0.269870</td>\n",
              "    </tr>\n",
              "    <tr>\n",
              "      <th>std</th>\n",
              "      <td>NaN</td>\n",
              "      <td>75.884647</td>\n",
              "      <td>4.896846e+05</td>\n",
              "      <td>5.691411</td>\n",
              "      <td>1.593626</td>\n",
              "      <td>19.286690</td>\n",
              "      <td>15.667814</td>\n",
              "      <td>1939.745234</td>\n",
              "      <td>9.042803e+04</td>\n",
              "      <td>20.797585</td>\n",
              "      <td>61.246541</td>\n",
              "      <td>12.495768</td>\n",
              "      <td>0.082714</td>\n",
              "      <td>4996.003166</td>\n",
              "      <td>3.970140</td>\n",
              "      <td>0.443917</td>\n",
              "    </tr>\n",
              "    <tr>\n",
              "      <th>min</th>\n",
              "      <td>NaN</td>\n",
              "      <td>0.000000</td>\n",
              "      <td>0.000000e+00</td>\n",
              "      <td>1.000000</td>\n",
              "      <td>0.000000</td>\n",
              "      <td>0.044459</td>\n",
              "      <td>0.000000</td>\n",
              "      <td>1.197890</td>\n",
              "      <td>1.554938e+00</td>\n",
              "      <td>0.022183</td>\n",
              "      <td>0.022183</td>\n",
              "      <td>0.000000</td>\n",
              "      <td>0.000630</td>\n",
              "      <td>16.143987</td>\n",
              "      <td>18.057942</td>\n",
              "      <td>0.000000</td>\n",
              "    </tr>\n",
              "    <tr>\n",
              "      <th>25%</th>\n",
              "      <td>NaN</td>\n",
              "      <td>1.394404</td>\n",
              "      <td>8.136318e+02</td>\n",
              "      <td>27.000000</td>\n",
              "      <td>0.000000</td>\n",
              "      <td>0.755629</td>\n",
              "      <td>0.000000</td>\n",
              "      <td>33.843800</td>\n",
              "      <td>2.737770e+01</td>\n",
              "      <td>0.399999</td>\n",
              "      <td>0.333225</td>\n",
              "      <td>0.000000</td>\n",
              "      <td>0.004177</td>\n",
              "      <td>351.620535</td>\n",
              "      <td>25.266134</td>\n",
              "      <td>0.000000</td>\n",
              "    </tr>\n",
              "    <tr>\n",
              "      <th>50%</th>\n",
              "      <td>NaN</td>\n",
              "      <td>11.613803</td>\n",
              "      <td>4.930482e+03</td>\n",
              "      <td>28.000000</td>\n",
              "      <td>0.034734</td>\n",
              "      <td>1.711077</td>\n",
              "      <td>0.000000</td>\n",
              "      <td>67.366295</td>\n",
              "      <td>8.905770e+01</td>\n",
              "      <td>0.710898</td>\n",
              "      <td>0.635705</td>\n",
              "      <td>0.022222</td>\n",
              "      <td>0.004177</td>\n",
              "      <td>682.943866</td>\n",
              "      <td>28.543826</td>\n",
              "      <td>0.000000</td>\n",
              "    </tr>\n",
              "    <tr>\n",
              "      <th>75%</th>\n",
              "      <td>NaN</td>\n",
              "      <td>34.494953</td>\n",
              "      <td>3.940357e+04</td>\n",
              "      <td>30.000000</td>\n",
              "      <td>0.451350</td>\n",
              "      <td>5.845619</td>\n",
              "      <td>0.022229</td>\n",
              "      <td>221.314810</td>\n",
              "      <td>5.613814e+02</td>\n",
              "      <td>1.555063</td>\n",
              "      <td>1.711155</td>\n",
              "      <td>0.088887</td>\n",
              "      <td>0.004177</td>\n",
              "      <td>1356.673217</td>\n",
              "      <td>30.969542</td>\n",
              "      <td>1.000000</td>\n",
              "    </tr>\n",
              "    <tr>\n",
              "      <th>max</th>\n",
              "      <td>NaN</td>\n",
              "      <td>1795.316255</td>\n",
              "      <td>4.677280e+06</td>\n",
              "      <td>51.000000</td>\n",
              "      <td>25.246148</td>\n",
              "      <td>1064.819285</td>\n",
              "      <td>831.503948</td>\n",
              "      <td>98097.784300</td>\n",
              "      <td>4.812144e+06</td>\n",
              "      <td>1118.878021</td>\n",
              "      <td>3183.701036</td>\n",
              "      <td>475.031124</td>\n",
              "      <td>2.955622</td>\n",
              "      <td>98031.408630</td>\n",
              "      <td>46.784800</td>\n",
              "      <td>1.000000</td>\n",
              "    </tr>\n",
              "  </tbody>\n",
              "</table>\n",
              "</div>\n",
              "      <button class=\"colab-df-convert\" onclick=\"convertToInteractive('df-01dce336-f33e-4102-ab44-54c6a643b433')\"\n",
              "              title=\"Convert this dataframe to an interactive table.\"\n",
              "              style=\"display:none;\">\n",
              "        \n",
              "  <svg xmlns=\"http://www.w3.org/2000/svg\" height=\"24px\"viewBox=\"0 0 24 24\"\n",
              "       width=\"24px\">\n",
              "    <path d=\"M0 0h24v24H0V0z\" fill=\"none\"/>\n",
              "    <path d=\"M18.56 5.44l.94 2.06.94-2.06 2.06-.94-2.06-.94-.94-2.06-.94 2.06-2.06.94zm-11 1L8.5 8.5l.94-2.06 2.06-.94-2.06-.94L8.5 2.5l-.94 2.06-2.06.94zm10 10l.94 2.06.94-2.06 2.06-.94-2.06-.94-.94-2.06-.94 2.06-2.06.94z\"/><path d=\"M17.41 7.96l-1.37-1.37c-.4-.4-.92-.59-1.43-.59-.52 0-1.04.2-1.43.59L10.3 9.45l-7.72 7.72c-.78.78-.78 2.05 0 2.83L4 21.41c.39.39.9.59 1.41.59.51 0 1.02-.2 1.41-.59l7.78-7.78 2.81-2.81c.8-.78.8-2.07 0-2.86zM5.41 20L4 18.59l7.72-7.72 1.47 1.35L5.41 20z\"/>\n",
              "  </svg>\n",
              "      </button>\n",
              "      \n",
              "  <style>\n",
              "    .colab-df-container {\n",
              "      display:flex;\n",
              "      flex-wrap:wrap;\n",
              "      gap: 12px;\n",
              "    }\n",
              "\n",
              "    .colab-df-convert {\n",
              "      background-color: #E8F0FE;\n",
              "      border: none;\n",
              "      border-radius: 50%;\n",
              "      cursor: pointer;\n",
              "      display: none;\n",
              "      fill: #1967D2;\n",
              "      height: 32px;\n",
              "      padding: 0 0 0 0;\n",
              "      width: 32px;\n",
              "    }\n",
              "\n",
              "    .colab-df-convert:hover {\n",
              "      background-color: #E2EBFA;\n",
              "      box-shadow: 0px 1px 2px rgba(60, 64, 67, 0.3), 0px 1px 3px 1px rgba(60, 64, 67, 0.15);\n",
              "      fill: #174EA6;\n",
              "    }\n",
              "\n",
              "    [theme=dark] .colab-df-convert {\n",
              "      background-color: #3B4455;\n",
              "      fill: #D2E3FC;\n",
              "    }\n",
              "\n",
              "    [theme=dark] .colab-df-convert:hover {\n",
              "      background-color: #434B5C;\n",
              "      box-shadow: 0px 1px 3px 1px rgba(0, 0, 0, 0.15);\n",
              "      filter: drop-shadow(0px 1px 2px rgba(0, 0, 0, 0.3));\n",
              "      fill: #FFFFFF;\n",
              "    }\n",
              "  </style>\n",
              "\n",
              "      <script>\n",
              "        const buttonEl =\n",
              "          document.querySelector('#df-01dce336-f33e-4102-ab44-54c6a643b433 button.colab-df-convert');\n",
              "        buttonEl.style.display =\n",
              "          google.colab.kernel.accessAllowed ? 'block' : 'none';\n",
              "\n",
              "        async function convertToInteractive(key) {\n",
              "          const element = document.querySelector('#df-01dce336-f33e-4102-ab44-54c6a643b433');\n",
              "          const dataTable =\n",
              "            await google.colab.kernel.invokeFunction('convertToInteractive',\n",
              "                                                     [key], {});\n",
              "          if (!dataTable) return;\n",
              "\n",
              "          const docLinkHtml = 'Like what you see? Visit the ' +\n",
              "            '<a target=\"_blank\" href=https://colab.research.google.com/notebooks/data_table.ipynb>data table notebook</a>'\n",
              "            + ' to learn more about interactive tables.';\n",
              "          element.innerHTML = '';\n",
              "          dataTable['output_type'] = 'display_data';\n",
              "          await google.colab.output.renderOutput(dataTable, element);\n",
              "          const docLink = document.createElement('div');\n",
              "          docLink.innerHTML = docLinkHtml;\n",
              "          element.appendChild(docLink);\n",
              "        }\n",
              "      </script>\n",
              "    </div>\n",
              "  </div>\n",
              "  "
            ]
          },
          "metadata": {},
          "execution_count": 363
        }
      ]
    },
    {
      "cell_type": "markdown",
      "source": [
        "<a name=\"Missing\"></a>\n",
        "## 4. Missing Values and Duplicates"
      ],
      "metadata": {
        "id": "bJNhVNKn5uEE"
      }
    },
    {
      "cell_type": "code",
      "source": [
        "# Check for missing values\n",
        "train.isnull().sum().any(), test.isnull().sum().any()"
      ],
      "metadata": {
        "colab": {
          "base_uri": "https://localhost:8080/"
        },
        "id": "FAV9X8wxixLs",
        "outputId": "5784a0e2-f0e4-48d7-a7b9-828f8a4563c6"
      },
      "execution_count": 364,
      "outputs": [
        {
          "output_type": "execute_result",
          "data": {
            "text/plain": [
              "(False, False)"
            ]
          },
          "metadata": {},
          "execution_count": 364
        }
      ]
    },
    {
      "cell_type": "code",
      "source": [
        "# Check for duplicates\n",
        "train.duplicated().any(), test.duplicated().any()"
      ],
      "metadata": {
        "colab": {
          "base_uri": "https://localhost:8080/"
        },
        "id": "O9x0apTajE1C",
        "outputId": "62d974c3-6380-41b7-c847-3d4a97ee5fb3"
      },
      "execution_count": 365,
      "outputs": [
        {
          "output_type": "execute_result",
          "data": {
            "text/plain": [
              "(False, False)"
            ]
          },
          "metadata": {},
          "execution_count": 365
        }
      ]
    },
    {
      "cell_type": "markdown",
      "source": [
        "There are no missing values or duplicates"
      ],
      "metadata": {
        "id": "PmGlVTOPjHKj"
      }
    },
    {
      "cell_type": "markdown",
      "source": [
        "<a name=\"Class Distribution\"></a>\n",
        "## 5. Target Distribution"
      ],
      "metadata": {
        "id": "6VmqiddbckaX"
      }
    },
    {
      "cell_type": "code",
      "source": [
        "# A box plot showing outliers\n",
        "sns.set_style('darkgrid')\n",
        "plt.figure(figsize=(15, 9))\n",
        "sns.countplot(x = 'Label', data = train)\n",
        "plt.title('Target Variable Distribution')\n",
        "plt.show()"
      ],
      "metadata": {
        "colab": {
          "base_uri": "https://localhost:8080/",
          "height": 567
        },
        "id": "m1jjFtDDjL8w",
        "outputId": "e4e45d4b-24e4-4318-fa7f-afb857a2404e"
      },
      "execution_count": 366,
      "outputs": [
        {
          "output_type": "display_data",
          "data": {
            "text/plain": [
              "<Figure size 1080x648 with 1 Axes>"
            ],
            "image/png": "[encoded data removed]"
          },
          "metadata": {}
        }
      ]
    },
    {
      "cell_type": "markdown",
      "source": [
        "There is a class imbalance in our dataset"
      ],
      "metadata": {
        "id": "0bwxAzFqkAcW"
      }
    },
    {
      "cell_type": "code",
      "source": [
        "# Plotting a heatmap to show correlations between variables\n",
        "corr = train.corr()\n",
        "plt.figure(figsize = (15, 12))\n",
        "sns.heatmap(corr, cmap='RdYlGn', annot = True, center = 0)\n",
        "plt.title('Correlogram', fontsize = 15, color = 'darkgreen')\n",
        "plt.show()"
      ],
      "metadata": {
        "colab": {
          "base_uri": "https://localhost:8080/",
          "height": 837
        },
        "id": "O-alO18wjhIv",
        "outputId": "a641d0c2-bfe4-4c5b-d27d-b3f2d88876aa"
      },
      "execution_count": 367,
      "outputs": [
        {
          "output_type": "display_data",
          "data": {
            "text/plain": [
              "<Figure size 1080x864 with 2 Axes>"
            ],
            "image/png": "[encoded data removed]"
          },
          "metadata": {}
        }
      ]
    },
    {
      "cell_type": "markdown",
      "source": [
        "Most features are not strongly correlated with the target"
      ],
      "metadata": {
        "id": "Dn75q_-4mQ1E"
      }
    },
    {
      "cell_type": "markdown",
      "source": [
        "<a name=\"Preprocess\"></a>\n",
        "## 6. Modeling"
      ],
      "metadata": {
        "id": "sOs6JaZJmcgm"
      }
    },
    {
      "cell_type": "code",
      "source": [
        "#scale numerical features for logistic model\n",
        "features = train.drop(columns=['ID','Label']).columns\n",
        "target = 'Label'\n",
        "\n",
        "# define standard scaler\n",
        "scaler = StandardScaler()\n",
        "\n",
        "# transform data\n",
        "train[features] = scaler.fit_transform(train[features])\n",
        "test[features] = scaler.transform(test[features])"
      ],
      "metadata": {
        "id": "yNkmO-pOmXnQ"
      },
      "execution_count": 368,
      "outputs": []
    },
    {
      "cell_type": "code",
      "source": [
        "#split train data into train and validation set\n",
        "X_train, X_test, y_train, y_test = train_test_split(train[features], \n",
        "                                                    train[target].to_frame(),\n",
        "                                                    stratify=train[target], #to account for class imbalance\n",
        "                                                    test_size=0.01,\n",
        "                                                    random_state=4070)"
      ],
      "metadata": {
        "id": "hc2hW7ukqmxJ"
      },
      "execution_count": 369,
      "outputs": []
    },
    {
      "cell_type": "code",
      "source": [
        "# Define LightGBM parameters\n",
        "params = {\n",
        "    'boosting_type': 'gbdt',\n",
        "    'objective': 'binary',\n",
        "    'num_leaves': 42,\n",
        "    'learning_rate': 0.09,\n",
        "    'feature_fraction': 0.9,\n",
        "    'bagging_fraction': 0.8,\n",
        "    'bagging_freq': 5,\n",
        "    'verbose': 0\n",
        "}\n",
        "\n",
        "# params = {\n",
        "#     'boosting_type': 'goss',\n",
        "#     'objective': 'binary',\n",
        "#     'metric': 'binary_logloss',\n",
        "#     'num_leaves': 64,\n",
        "#     'learning_rate': 0.09,\n",
        "#     'max_depth': 6,\n",
        "#     'min_child_samples': 20,\n",
        "#     'min_split_gain': 0.5,\n",
        "#     'colsample_bytree': 0.6,\n",
        "#     'subsample': 0.8,\n",
        "#     'reg_alpha': 1,\n",
        "#     'reg_lambda': 1,\n",
        "#     'n_estimators': 1000,\n",
        "#     'verbose': -1,\n",
        "#     'seed': 42\n",
        "# }\n",
        "\n",
        "\n",
        "# Create LightGBM dataset object\n",
        "train_dataset = lgb.Dataset(X_train, y_train)\n",
        "\n",
        "# Train LightGBM model\n",
        "model = lgb.train(params, train_dataset)\n",
        "\n",
        "# Make predictions on test data\n",
        "X_test = test.drop('ID', axis=1) \n",
        "# Assuming 'id' column is present in test data\n",
        "pred = model.predict(X_test)\n"
      ],
      "metadata": {
        "id": "oUUpIU4Dm91B",
        "colab": {
          "base_uri": "https://localhost:8080/"
        },
        "outputId": "bf085fe6-f99d-4bdf-8cfa-9e6466862d7d"
      },
      "execution_count": 371,
      "outputs": [
        {
          "output_type": "stream",
          "name": "stdout",
          "text": [
            "[LightGBM] [Warning] Found whitespace in feature_names, replace with underlines\n",
            "[LightGBM] [Warning] Auto-choosing col-wise multi-threading, the overhead of testing was 0.001415 seconds.\n",
            "You can set `force_col_wise=true` to remove the overhead.\n"
          ]
        }
      ]
    },
    {
      "cell_type": "code",
      "source": [
        "#check performance of the model\n",
        "\n",
        "# y_test = y_test.reindex(preds.index)\n",
        "# print(classification_report(y_test,pred))\n",
        "# print(classification_report(y_test, pred[:len(y_test)]))"
      ],
      "metadata": {
        "id": "WOcKbMxjsHzA"
      },
      "execution_count": 372,
      "outputs": []
    },
    {
      "cell_type": "code",
      "source": [
        "test['Target'] = model.predict(test[features])"
      ],
      "metadata": {
        "id": "GZ9_s1BuNKop"
      },
      "execution_count": 373,
      "outputs": []
    },
    {
      "cell_type": "code",
      "source": [
        "sub = test[['ID', 'Target']]"
      ],
      "metadata": {
        "id": "fTGXTtaZM6_3"
      },
      "execution_count": 374,
      "outputs": []
    },
    {
      "cell_type": "code",
      "source": [
        "sub['Target'] = [0 if i < 0.5 else 1 for i in sub['Target']]"
      ],
      "metadata": {
        "colab": {
          "base_uri": "https://localhost:8080/"
        },
        "id": "yks4bHSnMvhI",
        "outputId": "c51c1ee3-0c79-404e-960d-0429beb6b70d"
      },
      "execution_count": 375,
      "outputs": [
        {
          "output_type": "stream",
          "name": "stderr",
          "text": [
            "<ipython-input-375-ec81ea19549d>:1: SettingWithCopyWarning: \n",
            "A value is trying to be set on a copy of a slice from a DataFrame.\n",
            "Try using .loc[row_indexer,col_indexer] = value instead\n",
            "\n",
            "See the caveats in the documentation: https://pandas.pydata.org/pandas-docs/stable/user_guide/indexing.html#returning-a-view-versus-a-copy\n",
            "  sub['Target'] = [0 if i < 0.5 else 1 for i in sub['Target']]\n"
          ]
        }
      ]
    },
    {
      "cell_type": "code",
      "source": [
        "sub.head()"
      ],
      "metadata": {
        "id": "O6hSYXRhtA7m"
      },
      "execution_count": null,
      "outputs": []
    },
    {
      "cell_type": "code",
      "source": [
        "sub.to_csv('AAUmoja8.csv', index=False)"
      ],
      "metadata": {
        "id": "XnuWWZsawTPD"
      },
      "execution_count": 376,
      "outputs": []
    }
  ]
}